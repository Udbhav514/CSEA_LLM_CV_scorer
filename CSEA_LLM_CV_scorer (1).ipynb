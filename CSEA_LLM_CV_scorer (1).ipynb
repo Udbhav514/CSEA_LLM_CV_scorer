{
  "nbformat": 4,
  "nbformat_minor": 0,
  "metadata": {
    "colab": {
      "provenance": []
    },
    "kernelspec": {
      "name": "python3",
      "display_name": "Python 3"
    },
    "language_info": {
      "name": "python"
    }
  },
  "cells": [
    {
      "cell_type": "code",
      "execution_count": 179,
      "metadata": {
        "id": "hkeW51wH4xWe"
      },
      "outputs": [],
      "source": [
        "!pip install -q -U google-generativeai"
      ]
    },
    {
      "cell_type": "code",
      "source": [
        "!pip install PyMuPDF\n"
      ],
      "metadata": {
        "colab": {
          "base_uri": "https://localhost:8080/"
        },
        "id": "20AbCF14HVNI",
        "outputId": "9e8bf8b7-21a6-4ad5-daa3-96b8e163873e"
      },
      "execution_count": 180,
      "outputs": [
        {
          "output_type": "stream",
          "name": "stdout",
          "text": [
            "Requirement already satisfied: PyMuPDF in /usr/local/lib/python3.10/dist-packages (1.24.1)\n",
            "Requirement already satisfied: PyMuPDFb==1.24.1 in /usr/local/lib/python3.10/dist-packages (from PyMuPDF) (1.24.1)\n"
          ]
        }
      ]
    },
    {
      "cell_type": "code",
      "source": [
        "import fitz\n",
        "\n",
        "def extract_text_from_pdf(pdf_path):\n",
        "    text = \"\"\n",
        "    with fitz.open(pdf_path) as pdf:\n",
        "        for page in pdf:\n",
        "            text += page.get_text()\n",
        "    return text\n",
        "\n",
        "pdf_path = \"/content/CV_220101106.pdf\"  # Change this to your PDF file path\n",
        "extracted_text = extract_text_from_pdf(pdf_path)\n",
        "#print(extracted_text)\n",
        "\n",
        "pdf_path = \"/content/gautam_bhaiyya_resume.pdf\"  # Change this to your PDF file path\n",
        "extracted_text2 = extract_text_from_pdf(pdf_path)\n",
        "\n",
        "\n"
      ],
      "metadata": {
        "id": "CVdubeLiHZ_n"
      },
      "execution_count": 241,
      "outputs": []
    },
    {
      "cell_type": "code",
      "source": [
        "# Import the Python SDK\n",
        "import google.generativeai as genai\n",
        "# Used to securely store your API key\n",
        "from google.colab import userdata\n",
        "\n",
        "GOOGLE_API_KEY=userdata.get('GOOGLE_API_KEY')\n",
        "genai.configure(api_key=GOOGLE_API_KEY)"
      ],
      "metadata": {
        "id": "j2s2W2oo5Yup"
      },
      "execution_count": 242,
      "outputs": []
    },
    {
      "cell_type": "code",
      "source": [
        "model = genai.GenerativeModel('gemini-pro')"
      ],
      "metadata": {
        "id": "peLaiSXW5Y5H"
      },
      "execution_count": 243,
      "outputs": []
    },
    {
      "cell_type": "code",
      "source": [
        "#instruction1 = \" You are a brilliant resume summarizer .Summarize the following resume mentioning eductaion , skills , projects , achievement and work experience :-   \""
      ],
      "metadata": {
        "id": "qZlEo8Hc8QGf"
      },
      "execution_count": 244,
      "outputs": []
    },
    {
      "cell_type": "code",
      "source": [
        "instruction1 =''' You are a brilliant resume summarizer .Using the following example , summarize resumes in the exact format as given below.\n",
        " For example resume :-\n",
        " Udbhav Gupta +91-8107223633\n",
        "Roll No.:220101106 udbhavgupta0305@gmail.com\n",
        "B.Tech - Computer and Science Engineering udbhav@iitg.ac.in\n",
        "Indian Institute Of Technology, Guwahati linkedin.com/in/Udbhav Gupta\n",
        "Education\n",
        "Degree/Certificate Institute/Board CGPA/Percentage Year\n",
        "B.Tech. Major Indian Institute of Technology, Guwahati 8.86 (Current) 2022-Present\n",
        "Senior Secondary CBSE Board 92.2% 2022\n",
        "Secondary CBSE Board 94.8% 2020\n",
        "Projects\n",
        "• DocChain , A Complete Solution to Digital Identity Jan 2024 - Feb 2024\n",
        "First Prize Winner in Inter Hostel Technical Competition Github\n",
        "– Orchestrated backend architecture for blockchain-powered digital identity platform.\n",
        "– Implemented blockchain solutions for claims, voting, and property access management.\n",
        "– Leveraged Solidity, Third-Web SDK, and MetaMask Wallet API for seamless integration.\n",
        "• Live Points Leaderboard May 2023 - June 2023\n",
        "Coding Club , IIT Guwahati Github\n",
        "– Designed interactive leaderboard using JavaScript, HTML, and CSS for user-friendly contributor ranking.\n",
        "– Integrated live API data for real-time display of top contributors by points.\n",
        "• Diabetic Macular Edema Segmentation in OCT Images Oct. 2023 - Nov. 2023\n",
        "Coding Club , IIT Guwahati Github\n",
        "– Utilized UNet for diabetic macular edema in OCT images, enabling detailed analysis beyond classification.\n",
        "– Trained segmentation on 10 MATLAB files housing 61 retina images, advancing medical imaging insights.\n",
        "Skills\n",
        "• Programming: Python*, C/C++, Solidity*\n",
        "• Web Technologies: HTML ,CSS ,JavaScript*\n",
        "• Tools/Frameworks: Keras*, Tensorflow*, Pytorch*\n",
        "• Operating Systems:Windows, Linux* * Elementary proficiency\n",
        "Achievements\n",
        "• JEE Mains 2022, Secured an All India Rank of 371 among 1.2 million candidates appearing for the test 2022\n",
        "• JEE Advanced 2022, Secured an All India Rank of 514 out of 250,000 candidates appearing for the test 2022\n",
        "• KVPY SA 2020, Obtained the National research fellowship scholarship by securing an AIR of 871 2020\n",
        "• KVPY SX 2021, Secured a CRL Rank of 993 among 100,000 candidates appearing for the test 2021\n",
        "• Codeforces, Secured World Rank of 430 in Round 918 - Highest Rating 1501 (Specialist) 2023\n",
        "• Reliance Foundation Undergraduate Scholarship, Awardee for Academic Excellence 2023\n",
        "• ICPC-de-Tryst , IIT Delhi, Attained 68th rank in a competitive programming competition. 2024\n",
        "• STSE 2020, Attained 11th rank in the State examination administered by the Rajasthan Board. 2020\n",
        "• ML Hackathon , IITG.Ai, Secured third position among 155 candidates in the ML focused Hackathon. 2023\n",
        "• Kriti CP Competition, Awarded Gold Medal for achieving 1st place in the competitive programming event 2023\n",
        "• Kriti CTF Competition, Secured 1st rank in the Cybersecurity event 2023\n",
        "Key courses taken\n",
        "–Mathematics: Linear Algebra, Basic Calculus, Probability & Random Processes\n",
        "–Computer Science: Data Structures and Algorithms, Introduction to Computing\n",
        "–MOOC’s: Neural Networks and Deep Learning , Convolutional Neural Networks by Deep Learning.AI\n",
        "Positions of Responsibility\n",
        "– Coordinator, Coding Club, IIT Guwahati July. 2023 - July. 2024\n",
        "∗ Conducted various workshops and took part in projects related to ML and Web Development\n",
        "– Associate, Consulting and Analytics Club, IIT Guwahati May. 2023 - May. 2024\n",
        "∗ Contributed in organizing workshops and discussions centered around Consulting and Analytics within the club\n",
        "\n",
        "Summary :-\n",
        "\n",
        "Name :- Udbhav Gupta\n",
        "Degree:- B.Tech - Computer and Science Engineering\n",
        "College:- Indian Institute Of Technology, Guwahati\n",
        "**Education:**\n",
        "CGPA :- 8.86 (Current)\n",
        "Senior Secondary CBSE Board 92.2% 2022\n",
        "Secondary CBSE Board 94.8% 2020\n",
        "**Projects:** Blockchain digital identity platform, Interactive leaderboard, Diabetic macular edema segmentation\n",
        "**Skills:** Python, C/C++, Solidity, HTML, CSS, JavaScript, Keras, Tensorflow, Pytorch\n",
        "**Achievements:**\n",
        "- JEE Mains :- AIR 371/1.2M\n",
        "- JEE Advanced :- AIR 514/250K\n",
        "- KVPY SA :- AIR 871\n",
        "- KVPY SX :- CRL 993\n",
        "- Codeforces :- World Rank 430, Rating 1501\n",
        "- Scholarship :- Reliance Foundation\n",
        "- ICPC-de-Tryst :- Rank 68\n",
        "- Hackathon :- ML Hackathon 3rd Place\n",
        "\n",
        "**Positions of Responsibility: **\n",
        "- Coordinator, Coding Club, IIT Guwahati ,\n",
        "- Associate, Consulting and Analytics Club\n",
        "\n",
        "Resume :-\n",
        " '''"
      ],
      "metadata": {
        "id": "BL_ob6P39rwl"
      },
      "execution_count": 245,
      "outputs": []
    },
    {
      "cell_type": "code",
      "source": [
        "companyCriteria=\"\"\"\"\"\"\n",
        "#input should be provided here\n",
        "jobProfile=\"\"\"Technical\"\"\""
      ],
      "metadata": {
        "id": "dfb4_SwJ7HTV"
      },
      "execution_count": 246,
      "outputs": []
    },
    {
      "cell_type": "code",
      "source": [
        "resumeSummary1 = model.generate_content(instruction1 + extracted_text)\n",
        "resumeSummary2 = model.generate_content(instruction1 + extracted_text2)\n"
      ],
      "metadata": {
        "id": "Bup_1QjY5Y8v"
      },
      "execution_count": null,
      "outputs": []
    },
    {
      "cell_type": "code",
      "source": [
        "#print(ressume)\n",
        "print(resumeSummary1.text)"
      ],
      "metadata": {
        "id": "vGTNYS_C7jaw"
      },
      "execution_count": null,
      "outputs": []
    },
    {
      "cell_type": "code",
      "source": [
        "if (jobProfile == \"Technical\"):\n",
        "\n",
        "  analyzePrompt = \"\"\"\n",
        "  Input has summarisations of resumes of two candidates for a job. You are an impeccable resume comparer who quantifies the given resumes on the basis of some standards and gives them a score out of 100\n",
        "  2)return in json format number of tuples equal to the number of resumes provided with their respective values.\n",
        "  VALUES AT THE SAME INDEX IN ALL TUPLES MUST POINT AT THE SAME SKILL, these values are some numbers\n",
        "  3)The tuples returned should have the identification skill and their specific values\n",
        "  4)A tuple should contain jee mains rank ,jee advanced rank, codeforces rating,codeforces contest rank,codechef rating, cpi, 12th board percentage,\n",
        "  10th board percentage,number of internships,number of research internships,total experience for a technical resume\n",
        "  The above provided set of attributes should be there in the returned tuples always\n",
        "  5)Each indice of the tuples should point to the same skill\n",
        "  7)Return n tuples where n = number of resumes provided\n",
        "  8)Your motive is the list all the quantifiable skills in a tuple format , assign each of the skillset the explicit value as mentioned in the resume\n",
        "  assign the value null, wherever required (an quanttifiable value that is a number)\n",
        "  9)If some resume hasnt mentioned the codechef rating,you can assign the value null\n",
        "  and assign them with null if not present in the given resume , or with the provided value in the resume\n",
        "  10)Only assign mathematically comparable values in the tuples, the value of each tuple should be mathematical value, not a string\n",
        "  11)You cant provide the value of some other index to some other index, for example dont add the rating/rank of two different competitions or\n",
        "  platforms at the same index, create new index and provide the value at the new index and assign it None for the resumes which dont have it\n",
        "  12)Return the same number of tuples as the number of resumes provided\n",
        "  13)same set of attributes for each resume should be returned\n",
        "  14) These are the basic attributes which each tuple should always contain, further attributes to be added will also be mentioned in the\n",
        "  next queries, which should be added, accordingly with None values if not present or the provided mathematical value(or count) in the resume\n",
        "  \"\"\"\n",
        "\n",
        "\n",
        "if (jobProfile == \"Financial\"):\n",
        "  analyzePrompt = \"\"\"\n",
        "  Input contains summaries of resumes of several candidates for a financial position. You are an expert resume comparer who quantifies the given resumes on the basis of industry standards and assigns a score out of 100.\n",
        "  2) Return in JSON format a number of tuples equal to the number of resumes provided, each containing their respective values.\n",
        "    VALUES AT THE SAME INDEX IN ALL TUPLES MUST POINT AT THE SAME SKILL; these values are numerical.\n",
        "  3) The tuples returned should have the identification skill and their specific values.\n",
        "  4) A tuple should contain MBA entrance exam score (if applicable), CFA level passed, GMAT score,\n",
        "  financial modeling certification score, number of years in financial sector, number of internships, number of finance-specific\n",
        "  research projects, total experience in finance, 12th board percentage, 10th board percentage, and CPI.\n",
        "  The above-provided set of attributes should always be present in the returned tuples.\n",
        "  5) Each index of the tuples should point to the same skill across all resumes.\n",
        "  7) Return n tuples where n equals the number of resumes provided.\n",
        "  8) Your motive is to list all the quantifiable skills in a tuple format, assign each of the skill sets the explicit value as mentioned in the resume.\n",
        "    Assign the value None wherever required (any quantifiable value that is a number).\n",
        "  9) If some resume hasn't mentioned the GMAT score, you can assign the value None.\n",
        "    Assign them with null if not present in the given resume, or with the provided value in the resume.\n",
        "  10) Only assign mathematically comparable values in the tuples; the value of each tuple should be a mathematical value, not a string.\n",
        "  11) You can't provide the value of some other index to some other index; for example, don’t add the score of two different exams at the same index. Create a new index and provide the value at the new index and assign it null for the resumes which don’t have it.\n",
        "  12) Return the same number of tuples as the number of resumes provided.\n",
        "  13) The same set of attributes for each resume should be returned.\n",
        "  14) These are the basic attributes which each tuple should always contain; further attributes to be added will also be mentioned in the next queries, which should be added accordingly with null values if not present or the provided mathematical value (or count) in the resume.\n",
        "  \"\"\"\n",
        "\n",
        "if (jobProfile == \"Designer\"):\n",
        "  analyzePrompt = \"\"\"\n",
        "  Input contains summaries of resumes of several candidates for a design position. You are an expert resume comparer who quantifies the given resumes based on industry standards and assigns a score out of 100.\n",
        "  2) Return in JSON format a number of tuples equal to the number of resumes provided, each containing their respective values.\n",
        "    VALUES AT THE SAME INDEX IN ALL TUPLES MUST POINT AT THE SAME SKILL; these values are numerical.\n",
        "  3) The tuples returned should have the identification skill and their specific values.\n",
        "  4) A tuple should contain scores or levels for design-related qualifications including Adobe Creative Suite proficiency score, UX/UI certification score, graphic design portfolio rating, number of design projects completed, number of design internships, number of design awards won, total experience in design, 12th board percentage, 10th board percentage, and CPI.\n",
        "    The above-provided set of attributes should always be present in the returned tuples.\n",
        "  5) Each index of the tuples should point to the same skill across all resumes.\n",
        "  7) Return n tuples where n equals the number of resumes provided.\n",
        "  8) Your motive is to list all the quantifiable skills in a tuple format, assign each of the skill sets the explicit value as mentioned in the resume.\n",
        "    Assign the value null wherever required (any quantifiable value that is a number).\n",
        "  9) If a resume hasn't mentioned the UX/UI certification score, you can assign the value None.\n",
        "    Assign them with null if not present in the given resume, or with the provided value in the resume.\n",
        "  10) Only assign mathematically comparable values in the tuples; the value of each tuple should be a mathematical value, not a string.\n",
        "  11) You can't provide the value of some other index to some other index; for example, don’t add the proficiency score of one software as a substitute for another. Create a new index and provide the value at the new index and assign it null for the resumes which don’t have it.\n",
        "  12) Return the same number of tuples as the number of resumes provided.\n",
        "  13) The same set of attributes for each resume should be returned.\n",
        "  14) These are the basic attributes which each tuple should always contain; further attributes to be added will also be mentioned in the next queries, which should be added accordingly with null values if not present or the provided mathematical value (or count) in the resume.\n",
        "  \"\"\"\n"
      ],
      "metadata": {
        "id": "_AyGYxVYAJd9"
      },
      "execution_count": null,
      "outputs": []
    },
    {
      "cell_type": "code",
      "source": [],
      "metadata": {
        "id": "J_xMuO5VNLFA"
      },
      "execution_count": null,
      "outputs": []
    },
    {
      "cell_type": "code",
      "source": [
        "response = model.generate_content([resumeSummary1.text, resumeSummary2.text, analyzePrompt, companyCriteria])\n",
        "print(response.text)"
      ],
      "metadata": {
        "id": "mWOlQ2adMrkx"
      },
      "execution_count": null,
      "outputs": []
    },
    {
      "cell_type": "code",
      "source": [
        "template = {\n",
        "    \"jee_mains_rank\": {\"weight\": 0.05, \"default\":  2000, \"prefers_higher\": False},\n",
        "    \"jee_advanced_rank\": {\"weight\": 0.05, \"default\": 2000, \"prefers_higher\": False},\n",
        "    \"codeforces_rating\": {\"weight\": 0.15, \"default\": 0, \"prefers_higher\": True},\n",
        "    \"codeforces_contest_rank\": {\"weight\": 0.1, \"default\": 0, \"prefers_higher\": False},\n",
        "    \"codechef_rating\": {\"weight\": 0.1, \"default\": 0, \"prefers_higher\": True},\n",
        "    \"cpi\": {\"weight\": 0.2, \"default\": 0, \"prefers_higher\": True},\n",
        "    \"board_12th_percentage\": {\"weight\": 0.05, \"default\": 0, \"prefers_higher\": True},\n",
        "    \"board_10th_percentage\": {\"weight\": 0.05, \"default\": 0, \"prefers_higher\": True},\n",
        "    \"number_of_projects\": {\"weight\": 0.1, \"default\": 0, \"prefers_higher\": True},\n",
        "    \"number_of_internships\": {\"weight\": 0.05, \"default\": 0, \"prefers_higher\": True},\n",
        "    \"number_of_research_experience\": {\"weight\": 0.1, \"default\": 0, \"prefers_higher\": True},\n",
        "    \"total_experience\": {\"weight\": 0.1, \"default\": 0, \"prefers_higher\": True}\n",
        "}"
      ],
      "metadata": {
        "id": "7yg8ZRn0Mmse"
      },
      "execution_count": null,
      "outputs": []
    },
    {
      "cell_type": "code",
      "source": [
        "import json\n",
        "import re\n",
        "\n",
        "def create_scores_dict(json_str, template):\n",
        "    def normalize_entry(entry, max_values, min_values, template):\n",
        "        normalized_entry = {}\n",
        "        for key in template.keys():\n",
        "            value = entry.get(key)\n",
        "            if value is not None:\n",
        "                if template[key]['prefers_higher']:\n",
        "                    if max_values[key] == min_values[key]:\n",
        "                        normalized_entry[key] = 1\n",
        "                    else:\n",
        "                        normalized_entry[key] = (value - min_values[key]) / (max_values[key] - min_values[key])\n",
        "                else:\n",
        "                    if max_values[key] == min_values[key]:\n",
        "                        normalized_entry[key] = 1\n",
        "                    else:\n",
        "                        normalized_entry[key] = 1 - (value - min_values[key]) / (max_values[key] - min_values[key])\n",
        "            else:\n",
        "                normalized_entry[key] = template[key]['default']\n",
        "        return normalized_entry\n",
        "\n",
        "    def calculate_total_score(normalized_entry, template):\n",
        "        total_score = 0\n",
        "        for key, value in normalized_entry.items():\n",
        "            total_score += value * template[key]['weight']\n",
        "        return total_score\n",
        "\n",
        "    def format(input_string):\n",
        "      # Define a regular expression pattern to match non-keyboard characters\n",
        "      pattern = r'[^\\x20-\\x7E]'\n",
        "      # Use the re.sub() function to replace all non-keyboard characters with an empty string\n",
        "      cleaned_string = re.sub(pattern, '', input_string)\n",
        "      return cleaned_string\n",
        "      # Initialize scores dictionary\n",
        "\n",
        "    scores_dict = {}\n",
        "    #print(json_str)\n",
        "\n",
        "    json_str = json_str[json_str.find(\"[\"):json_str.find(\"]\") + 1].strip()\n",
        "    #print(json_str)\n",
        "\n",
        "    json_str = format(json_str)\n",
        "\n",
        "    #print(json_str)\n",
        "\n",
        "    json_str = json_str.replace(\"\\'\", \"\")\n",
        "\n",
        "    #print(json_str)\n",
        "\n",
        "    data = json.loads(json_str)\n",
        "\n",
        "    # Find the maximum and minimum values for each attribute across all entries\n",
        "    max_values = {key: float('-inf') for key in template}\n",
        "    min_values = {key: float('inf') for key in template}\n",
        "    for entry in data:\n",
        "        for key, value in entry.items():\n",
        "            if key in template and value is not None:\n",
        "                max_values[key] = max(max_values[key], value)\n",
        "                min_values[key] = min(min_values[key], value)\n",
        "\n",
        "    # Normalize each entry using the maximum values and calculate total scores\n",
        "    for idx, entry in enumerate(data, start=1):\n",
        "        normalized_entry = normalize_entry(entry, max_values, min_values, template)\n",
        "        total_score = calculate_total_score(normalized_entry, template)\n",
        "        scores_dict[idx] = total_score\n",
        "\n",
        "    return scores_dict"
      ],
      "metadata": {
        "id": "Fs0a2QxR9YZ7"
      },
      "execution_count": null,
      "outputs": []
    },
    {
      "cell_type": "code",
      "source": [
        "test = response.text"
      ],
      "metadata": {
        "id": "GwoOtsWjcNRk"
      },
      "execution_count": null,
      "outputs": []
    },
    {
      "cell_type": "code",
      "source": [],
      "metadata": {
        "id": "HyRB57gY9d15"
      },
      "execution_count": null,
      "outputs": []
    },
    {
      "cell_type": "code",
      "source": [],
      "metadata": {
        "id": "HVfyHFZtBmmW"
      },
      "execution_count": null,
      "outputs": []
    },
    {
      "cell_type": "code",
      "source": [
        "#map_list = json.loads(der)"
      ],
      "metadata": {
        "id": "PhnixUOQ9YTc"
      },
      "execution_count": null,
      "outputs": []
    },
    {
      "cell_type": "code",
      "source": [
        "create_scores_dict(test, template)"
      ],
      "metadata": {
        "id": "NdMini1MdYvc"
      },
      "execution_count": null,
      "outputs": []
    },
    {
      "cell_type": "code",
      "source": [],
      "metadata": {
        "id": "gTR2HLnCdcdB"
      },
      "execution_count": null,
      "outputs": []
    },
    {
      "cell_type": "code",
      "source": [],
      "metadata": {
        "id": "iK5fpzHbuDE1"
      },
      "execution_count": null,
      "outputs": []
    },
    {
      "cell_type": "code",
      "source": [],
      "metadata": {
        "id": "qMTOts-DuFGk"
      },
      "execution_count": null,
      "outputs": []
    },
    {
      "cell_type": "code",
      "source": [],
      "metadata": {
        "id": "htRaQn1zwLTs"
      },
      "execution_count": null,
      "outputs": []
    }
  ]
}